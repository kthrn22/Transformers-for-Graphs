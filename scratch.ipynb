{
 "cells": [
  {
   "cell_type": "code",
   "execution_count": 1,
   "metadata": {},
   "outputs": [],
   "source": [
    "import numpy as np\n",
    "import torch"
   ]
  },
  {
   "cell_type": "code",
   "execution_count": 3,
   "metadata": {},
   "outputs": [
    {
     "data": {
      "text/plain": [
       "tensor([[0.0056, 0.0986, 0.3747],\n",
       "        [0.6344, 0.2998, 0.4138],\n",
       "        [0.7228, 0.5758, 0.1470],\n",
       "        [0.8928, 0.7339, 0.5491],\n",
       "        [0.2027, 0.3017, 0.5235]], dtype=torch.float64)"
      ]
     },
     "execution_count": 3,
     "metadata": {},
     "output_type": "execute_result"
    }
   ],
   "source": [
    "coordinates = torch.from_numpy(np.random.rand(5, 3))\n",
    "coordinates"
   ]
  },
  {
   "cell_type": "code",
   "execution_count": 36,
   "metadata": {},
   "outputs": [],
   "source": [
    "duplicated_coordinates = coordinates.unsqueeze(0).broadcast_to((5, 5, 3)).permute(0, 2, 1)"
   ]
  },
  {
   "cell_type": "code",
   "execution_count": 39,
   "metadata": {},
   "outputs": [
    {
     "data": {
      "text/plain": [
       "tensor([[0.6344, 0.2998, 0.4138],\n",
       "        [0.6344, 0.2998, 0.4138],\n",
       "        [0.6344, 0.2998, 0.4138],\n",
       "        [0.6344, 0.2998, 0.4138],\n",
       "        [0.6344, 0.2998, 0.4138]], dtype=torch.float64)"
      ]
     },
     "execution_count": 39,
     "metadata": {},
     "output_type": "execute_result"
    }
   ],
   "source": [
    "duplicated_coordinates[:, :, 1]"
   ]
  },
  {
   "cell_type": "code",
   "execution_count": 37,
   "metadata": {},
   "outputs": [],
   "source": [
    "a = coordinates.unsqueeze(-1).broadcast_to(duplicated_coordinates.shape) - duplicated_coordinates"
   ]
  },
  {
   "cell_type": "code",
   "execution_count": 35,
   "metadata": {},
   "outputs": [
    {
     "data": {
      "text/plain": [
       "tensor(0.6615, dtype=torch.float64)"
      ]
     },
     "execution_count": 35,
     "metadata": {},
     "output_type": "execute_result"
    }
   ],
   "source": [
    "torch.sum((coordinates[0] - coordinates[1]) ** 2) ** 0.5"
   ]
  },
  {
   "cell_type": "code",
   "execution_count": 33,
   "metadata": {},
   "outputs": [
    {
     "data": {
      "text/plain": [
       "tensor([[0.0000, 0.6615, 0.8911, 1.1051, 0.3198],\n",
       "        [0.6615, 0.0000, 0.3939, 0.5230, 0.4455],\n",
       "        [0.8911, 0.3939, 0.0000, 0.4643, 0.6981],\n",
       "        [1.1051, 0.5230, 0.4643, 0.0000, 0.8147],\n",
       "        [0.3198, 0.4455, 0.6981, 0.8147, 0.0000]], dtype=torch.float64)"
      ]
     },
     "execution_count": 33,
     "metadata": {},
     "output_type": "execute_result"
    }
   ],
   "source": [
    "torch.sum(a ** 2, dim = 1) ** 0.5"
   ]
  },
  {
   "cell_type": "code",
   "execution_count": null,
   "metadata": {},
   "outputs": [],
   "source": []
  }
 ],
 "metadata": {
  "kernelspec": {
   "display_name": "Python 3",
   "language": "python",
   "name": "python3"
  },
  "language_info": {
   "codemirror_mode": {
    "name": "ipython",
    "version": 3
   },
   "file_extension": ".py",
   "mimetype": "text/x-python",
   "name": "python",
   "nbconvert_exporter": "python",
   "pygments_lexer": "ipython3",
   "version": "3.8.10"
  },
  "orig_nbformat": 4,
  "vscode": {
   "interpreter": {
    "hash": "aee8b7b246df8f9039afb4144a1f6fd8d2ca17a180786b69acc140d282b71a49"
   }
  }
 },
 "nbformat": 4,
 "nbformat_minor": 2
}
